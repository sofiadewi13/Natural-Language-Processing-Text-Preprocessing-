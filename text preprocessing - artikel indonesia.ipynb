{
 "cells": [
  {
   "cell_type": "code",
   "execution_count": 1,
   "metadata": {},
   "outputs": [
    {
     "name": "stdout",
     "output_type": "stream",
     "text": [
      "[nltk_data] Downloading package stopwords to C:\\Users\\Sofia\n",
      "[nltk_data]     Dewi\\AppData\\Roaming\\nltk_data...\n",
      "[nltk_data]   Package stopwords is already up-to-date!\n"
     ]
    }
   ],
   "source": [
    "import nltk #import library nltk\n",
    "nltk.download('stopwords')\n",
    "from nltk.tokenize import word_tokenize #import word_tokenize for tokenizing text into words \n",
    "from nltk.tokenize import sent_tokenize #import sent_tokenize for tokenizing paragraph into sentences\n",
    "from nltk.stem.porter import PorterStemmer #import Porter Stemmer Algorithm \n",
    "from nltk.stem import WordNetLemmatizer #import WordNet lemmatizer \n",
    "from nltk.corpus import stopwords #import stopwords\n",
    "from nltk.tokenize import RegexpTokenizer\n",
    "from Sastrawi.Stemmer.StemmerFactory import StemmerFactory #import Indonesian Stemmer\n",
    "from Sastrawi.StopWordRemover.StopWordRemoverFactory import StopWordRemoverFactory\n",
    "from collections import Counter\n",
    "import re #import regular expression\n",
    "from nltk.corpus import stopwords \n",
    "from nltk.tokenize import word_tokenize "
   ]
  },
  {
   "cell_type": "code",
   "execution_count": 7,
   "metadata": {},
   "outputs": [],
   "source": [
    "#casefolding\n",
    "def casefolding(s):\n",
    "    new_str = s.lower()\n",
    "    \n",
    "    return new_str\n",
    "\n",
    "#remove punctuation and digit from string\n",
    "def removePunc(str):\n",
    "    new_string =  re.sub(r\"[\\W]\", \" \", str)\n",
    "    return new_string\n",
    "\n",
    "#Stopwords\n",
    "def stopword(str):\n",
    "    stop_words = set(stopwords.words('indonesian')) \n",
    "    word_tokens = word_tokenize(str) \n",
    "    filtered_sentence = [w for w in word_tokens if not w in stop_words]  \n",
    "    filtered_sentence = [] \n",
    "    \n",
    "    for w in word_tokens: \n",
    "        if w not in stop_words: \n",
    "            filtered_sentence.append(w)\n",
    "    return filtered_sentence\n",
    "\n",
    "#Stemming Indo\n",
    "def stemmingIndo(str):\n",
    "    factory = StemmerFactory()\n",
    "    stemmer = factory.create_stemmer()\n",
    "    return stemmer.stem(str)\n",
    "\n",
    "        \n",
    "def postag(str):\n",
    "    tok_sentence = nltk.word_tokenize(str)\n",
    "    tagged_sentence = nltk.pos_tag(tok_sentence)\n",
    "    return tagged_sentence\n",
    "     \n"
   ]
  },
  {
   "cell_type": "code",
   "execution_count": 9,
   "metadata": {},
   "outputs": [
    {
     "name": "stdout",
     "output_type": "stream",
     "text": [
      "[('brand', 'NN'), ('indonesia', 'NN'), ('lolos', 'NN'), ('bazar', 'NN'), ('maison', 'NN'), ('objet', 'NN'), ('paris', 'NN'), ('alvin', 'NN'), ('tjitrowirjo', 'NN'), ('tunjuk', 'NN'), ('desain', 'NN'), ('produk', 'NN'), ('bawah', 'NN'), ('brand', 'NN'), ('milik', 'NN'), ('nama', 'JJ'), ('alvint', 'NN'), ('event', 'NN'), ('maison', 'NN'), ('objet', 'NN'), ('bazar', 'NN'), ('gaya', 'NN'), ('hidup', 'NN'), ('ada', 'IN'), ('paris', 'NN'), ('nord', 'NN'), ('villepinte', 'NN'), ('convention', 'NN'), ('center', 'NN'), ('paris', 'VBP'), ('tanggal', 'JJ'), ('7', 'CD'), ('kemarin', 'NN'), ('11', 'CD'), ('september', 'NN'), ('benda', 'NN'), ('benda', 'NN'), ('tunjuk', 'NN'), ('alvint', 'NN'), ('kuda', 'NN'), ('kayu', 'NN'), ('kursi', 'NN'), ('malya', 'NN'), ('loop', 'NN'), ('stool', 'NN'), ('bangku', 'NN'), ('benda', 'NN'), ('jenis', 'NN'), ('rotan', 'JJ'), ('nama', 'NN'), ('karuun', 'NN'), ('kembang', 'VBD'), ('usaha', 'JJ'), ('manufaktur', 'NN'), ('jerman', 'NN'), ('karuun', 'VBD'), ('sungguh', 'JJ'), ('teknik', 'NN'), ('warna', 'NN'), ('rotan', 'NN'), ('rotan', 'NN'), ('semprot', 'NN'), ('zat', 'NN'), ('warna', 'NN'), ('karuun', 'NN'), ('suntik', 'NN'), ('warna', 'NN'), ('potong', 'JJ'), ('dalam', 'NN'), ('warna', 'NN'), ('alvin', 'NN'), ('kutip', 'NN'), ('jakarta', 'NN'), ('post', 'NN'), ('alvin', 'NN'), ('teknik', 'NN'), ('warna', 'NN'), ('paten', 'VBP'), ('usaha', 'JJ'), ('rotan', 'NN'), ('lanjut', 'NN'), ('asal', 'NN'), ('aceh', 'IN'), ('kalimantan', 'JJ'), ('sungguh', 'NN'), ('nama', 'NN'), ('karuun', 'NN'), ('rujuk', 'VBP'), ('material', 'NN'), ('alvin', 'NN'), ('desain', 'NN'), ('produk', 'JJ'), ('material', 'NN'), ('produk', 'NN'), ('desain', 'NN'), ('alvin', 'JJ'), ('milik', 'NN'), ('warna', 'JJ'), ('pastel', 'NN'), ('tuju', 'NN'), ('tampil', 'NN'), ('kontemporer', 'NN'), ('moment', 'NN'), ('tiga', 'NN'), ('kali', 'NN'), ('alvin', 'NN'), ('desain', 'NN'), ('maison', 'NN'), ('objet', 'NN'), ('mana', 'NN'), ('bagi', 'NN'), ('booth', 'DT'), ('n20', 'VBP'), ('hall', 'NN'), ('5a', 'CD'), ('desainer', 'NN'), ('tekstil', 'NN'), ('bangsa', 'NN'), ('belanda', 'NN'), ('nikkie', 'NN'), ('wester', 'NN'), ('januari', 'NN'), ('alvin', 'NN'), ('desain', 'NN'), ('maison', 'NN'), ('objet', 'IN'), ('booth', 'DT'), ('rotan', 'JJ'), ('yamakawa', 'NN'), ('alvin', 'NN'), ('kolaborasi', 'NN'), ('brand', 'NN'), ('fashion', 'NN'), ('indonesia', 'NN'), ('mata', 'NN'), ('pandang', 'NN'), ('tunjuk', 'NN'), ('maison', 'NN'), ('objet', 'NN'), ('2017', 'CD'), ('alvin', 'NN'), ('hasil', 'NN'), ('karya', 'NN'), ('ajang', 'NN'), ('prestis', 'NN'), ('mudah', 'NN'), ('lewat', 'NN'), ('proses', 'VBZ'), ('seleksi', 'JJ'), ('tantang', 'NN')]\n"
     ]
    }
   ],
   "source": [
    "def main():\n",
    "    file = open('bahasa.txt', 'r')\n",
    "    text_data = file.read()\n",
    "    low = casefolding(text_data)\n",
    "    punc = removePunc(low)\n",
    "    filtered_sentence = stopword(punc)\n",
    "    str1 = ' '.join(filtered_sentence)\n",
    "    stem = stemmingIndo(str1)\n",
    "    pt = postag(stem)\n",
    "    hitung = Counter(filtered_sentence)\n",
    "    print(pt)\n",
    "\n",
    "if __name__== \"__main__\":\n",
    "    main()"
   ]
  },
  {
   "cell_type": "code",
   "execution_count": null,
   "metadata": {},
   "outputs": [],
   "source": []
  }
 ],
 "metadata": {
  "kernelspec": {
   "display_name": "Python 3",
   "language": "python",
   "name": "python3"
  },
  "language_info": {
   "codemirror_mode": {
    "name": "ipython",
    "version": 3
   },
   "file_extension": ".py",
   "mimetype": "text/x-python",
   "name": "python",
   "nbconvert_exporter": "python",
   "pygments_lexer": "ipython3",
   "version": "3.6.5"
  }
 },
 "nbformat": 4,
 "nbformat_minor": 2
}
