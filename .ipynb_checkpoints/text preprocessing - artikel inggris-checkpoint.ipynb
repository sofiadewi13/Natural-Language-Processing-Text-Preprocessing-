{
 "cells": [
  {
   "cell_type": "code",
   "execution_count": 16,
   "metadata": {},
   "outputs": [
    {
     "name": "stdout",
     "output_type": "stream",
     "text": [
      "[nltk_data] Downloading package stopwords to C:\\Users\\Sofia\n",
      "[nltk_data]     Dewi\\AppData\\Roaming\\nltk_data...\n",
      "[nltk_data]   Package stopwords is already up-to-date!\n"
     ]
    }
   ],
   "source": [
    "import nltk #import library nltk\n",
    "nltk.download('stopwords')\n",
    "from nltk.tokenize import word_tokenize #import word_tokenize for tokenizing text into words \n",
    "from nltk.tokenize import sent_tokenize #import sent_tokenize for tokenizing paragraph into sentences\n",
    "from nltk.stem.porter import PorterStemmer #import Porter Stemmer Algorithm \n",
    "from nltk.stem import WordNetLemmatizer #import WordNet lemmatizer \n",
    "from nltk.corpus import stopwords #import stopwords\n",
    "from nltk.tokenize import RegexpTokenizer\n",
    "from Sastrawi.Stemmer.StemmerFactory import StemmerFactory #import Indonesian Stemmer\n",
    "from Sastrawi.StopWordRemover.StopWordRemoverFactory import StopWordRemoverFactory\n",
    "from collections import Counter\n",
    "import re #import regular expression\n",
    "from nltk.corpus import stopwords \n",
    "from nltk.tokenize import word_tokenize "
   ]
  },
  {
   "cell_type": "code",
   "execution_count": 24,
   "metadata": {},
   "outputs": [],
   "source": [
    "#casefolding\n",
    "def casefolding(s):\n",
    "    new_str = s.lower()\n",
    "    \n",
    "    return new_str\n",
    "\n",
    "#remove punctuation and digit from string\n",
    "def removePunc(str):\n",
    "    new_string =  re.sub(r\"[\\W]\", \" \", str)\n",
    "    return new_string\n",
    "\n",
    "#Stopwords\n",
    "def stopword(str):\n",
    "    stop_words = set(stopwords.words('english')) \n",
    "    word_tokens = word_tokenize(str) \n",
    "    filtered_sentence = [w for w in word_tokens if not w in stop_words]  \n",
    "    filtered_sentence = [] \n",
    "    \n",
    "    for w in word_tokens: \n",
    "        if w not in stop_words: \n",
    "            filtered_sentence.append(w)\n",
    "    return filtered_sentence\n",
    "\n",
    "\n",
    "#Stemming English\n",
    "def stemmingEnglish(str):\n",
    "    porter_stemmer = PorterStemmer()\n",
    "    words = word_tokenize(str)\n",
    "    result = list()\n",
    "    for word in words:\n",
    "        result.append(porter_stemmer.stem(word))\n",
    "        \n",
    "    return ' '.join(result)\n",
    "\n",
    "        \n",
    "def postag(str):\n",
    "    tok_sentence = nltk.word_tokenize(str)\n",
    "    tagged_sentence = nltk.pos_tag(tok_sentence)\n",
    "    return tagged_sentence\n",
    "     \n"
   ]
  },
  {
   "cell_type": "code",
   "execution_count": 25,
   "metadata": {},
   "outputs": [
    {
     "name": "stdout",
     "output_type": "stream",
     "text": [
      "[('lyft', 'NN'), ('launch', 'NN'), ('scooter', 'NN'), ('servic', 'JJ'), ('uber', 'NNP'), ('close', 'NN'), ('behind', 'IN'), ('lyft', 'JJ'), ('launch', 'JJ'), ('fleet', 'NN'), ('electr', 'JJ'), ('scooter', 'NN'), ('denver', 'NN'), ('thursday', 'JJ'), ('step', 'NN'), ('squar', 'VBD'), ('rapidli', 'JJ'), ('grow', 'NN'), ('scooter', 'NN'), ('share', 'NN'), ('market', 'NN'), ('far', 'RB'), ('domin', 'VBZ'), ('like', 'IN'), ('bird', 'NN'), ('lime', 'JJ'), ('uber', 'JJ'), ('expect', 'VBP'), ('deploy', 'JJ'), ('scooter', 'NN'), ('rival', 'JJ'), ('bird', 'NN'), ('hometown', 'JJ'), ('santa', 'NN'), ('monica', 'NN'), ('california', 'NN'), ('within', 'IN'), ('week', 'NN'), ('accord', 'NN'), ('compani', 'NN'), ('spokesperson', 'NN'), ('although', 'IN'), ('two', 'CD'), ('compani', 'NNS'), ('synonym', 'JJ'), ('rideshar', 'NNS'), ('see', 'VBP'), ('tremend', 'JJ'), ('potenti', 'NN'), ('electr', 'NN'), ('scooter', 'NN'), ('bicycl', 'NN'), ('devic', 'NN'), ('popular', 'JJ'), ('commut', 'NN'), ('help', 'NN'), ('reduc', 'VB'), ('congest', 'JJ'), ('complement', 'NN'), ('public', 'JJ'), ('transit', 'NN'), ('could', 'MD'), ('help', 'VB'), ('offset', 'VB'), ('mount', 'NN'), ('critic', 'JJ'), ('back', 'RB'), ('sever', 'NN'), ('studi', 'NN'), ('show', 'NN'), ('rideshar', 'JJ'), ('lead', 'NN'), ('traffic', 'NN'), ('peopl', 'JJ'), ('shift', 'NN'), ('mass', 'NN'), ('transit', 'NN'), ('car', 'NN'), ('scooter', 'NN'), ('way', 'NN'), ('make', 'VBP'), ('daili', 'NN'), ('trip', 'NN'), ('fun', 'NN'), ('encourag', 'VBP'), ('multimod', 'NN'), ('commut', 'NN'), ('carolin', 'NN'), ('samponaro', 'JJ'), ('lead', 'NN'), ('bike', 'NN'), ('scooter', 'NN'), ('polici', 'NN'), ('lyft', 'NN'), ('told', 'VBD'), ('cnn', 'JJ'), ('money', 'NN'), ('eager', 'NN'), ('facilit', 'VBP'), ('switch', 'NN'), ('scooter', 'NN'), ('lyft', 'NN'), ('soon', 'RB'), ('offer', 'VBP'), ('anyon', 'JJ'), ('ride', 'NN'), ('scooter', 'NN'), ('discount', 'NN'), ('start', 'JJ'), ('end', 'NN'), ('ride', 'NN'), ('near', 'IN'), ('public', 'JJ'), ('transit', 'NN'), ('scooter', 'NN'), ('found', 'VBD'), ('lyft', 'RB'), ('app', 'JJ'), ('price', 'NN'), ('mirror', 'NN'), ('industri', 'JJ'), ('standard', 'NN'), ('1', 'CD'), ('unlock', 'NN'), ('scooter', 'NN'), ('15', 'CD'), ('cent', 'NN'), ('minut', 'NN'), ('compani', 'NN'), ('also', 'RB'), ('ad', 'NN'), ('featur', 'NN'), ('app', 'JJ'), ('let', 'NN'), ('commut', 'NN'), ('know', 'VB'), ('near', 'IN'), ('public', 'JJ'), ('transit', 'NN'), ('stop', 'VB'), ('uber', 'NNP'), ('acquir', 'JJ'), ('bikeshar', 'NN'), ('startup', 'NN'), ('jump', 'NN'), ('april', 'NN'), ('seen', 'VBN'), ('rider', 'VB'), ('san', 'JJ'), ('francisco', 'NN'), ('shift', 'NN'), ('car', 'NN'), ('electr', 'VBP'), ('bike', 'NN'), ('suggest', 'VBP'), ('rideshar', 'NN'), ('giant', 'NN'), ('must', 'MD'), ('expand', 'VB'), ('beyond', 'IN'), ('car', 'NN'), ('want', 'VBP'), ('see', 'VB'), ('upstart', 'JJ'), ('siphon', 'VB'), ('away', 'RP'), ('busi', 'JJ'), ('samponaro', 'NN'), ('said', 'VBD'), ('lyft', 'JJ'), ('receiv', 'NN'), ('ton', 'NN'), ('demand', 'NN'), ('citi', 'JJ'), ('interest', 'NN'), ('scooter', 'NN'), ('lyft', 'VBD'), ('launch', 'JJ'), ('scooter', 'NN'), ('santa', 'NN'), ('monica', 'NN'), ('sept', 'VBD'), ('17', 'CD'), ('interest', 'NN'), ('expand', 'NN'), ('citi', 'NNS'), ('take', 'VBP'), ('cue', 'NN'), ('launch', 'NN'), ('citi', 'NN'), ('govern', 'JJ'), ('accord', 'NN'), ('samponaro', 'NN'), ('lyft', 'NN'), ('approach', 'NN'), ('differ', 'VBP'), ('bird', 'NN'), ('lime', 'NN'), ('launch', 'NN'), ('denver', 'RB'), ('mani', 'VBD'), ('citi', 'NNS'), ('earlier', 'RBR'), ('year', 'NN'), ('without', 'IN'), ('municip', 'NN'), ('approv', 'NN'), ('approach', 'NN'), ('rankl', 'NN'), ('citi', 'NN'), ('help', 'NN'), ('compani', 'VB'), ('grow', 'VB'), ('quickli', 'JJ'), ('win', 'NN'), ('custom', 'NN'), ('bird', 'NN'), ('lime', 'NN'), ('rais', 'VB'), ('money', 'NN'), ('investor', 'NN'), ('faster', 'RBR'), ('pace', 'NN'), ('uber', 'NNP'), ('lyft', 'NN'), ('aggress', 'NN'), ('tactic', 'JJ'), ('throwback', 'NN'), ('earli', 'JJ'), ('day', 'NN'), ('rideshar', 'VB'), ('fact', 'NN'), ('bird', 'NN'), ('led', 'VBD'), ('ceo', 'NN'), ('travi', 'NN'), ('vanderzanden', 'NN'), ('veteran', 'NN'), ('uber', 'NNP'), ('lyft', 'VBZ'), ('uber', 'JJ'), ('lyft', 'JJ'), ('measur', 'NN'), ('deal', 'NN'), ('local', 'JJ'), ('govern', 'NN'), ('today', 'NN'), ('lyft', 'VBP'), ('fleet', 'NN'), ('use', 'NN'), ('scooter', 'RB'), ('much', 'JJ'), ('like', 'IN'), ('everyon', 'NN'), ('els', 'NNS'), ('use', 'VBP'), ('compani', 'NN'), ('offer', 'NN'), ('novel', 'JJ'), ('featur', 'JJ'), ('rider', 'NN'), ('pay', 'NN'), ('ad', 'NN'), ('fee', 'NN'), ('15', 'CD'), ('cent', 'NN'), ('minut', 'NN'), ('reserv', 'VBP'), ('scooter', 'NN'), ('app', 'NN'), ('exampl', 'NN'), ('compani', 'NN'), ('reli', 'NN'), ('upon', 'IN'), ('full', 'JJ'), ('time', 'NN'), ('employe', 'JJ'), ('charg', 'NN'), ('maintain', 'VBP'), ('fleet', 'NN'), ('rather', 'RB'), ('use', 'NN'), ('contract', 'NN'), ('employe', 'JJ'), ('expect', 'VBP'), ('lead', 'JJ'), ('better', 'JJR'), ('care', 'NN'), ('scooter', 'RBR'), ('user', 'NN'), ('feel', 'VB'), ('confid', 'JJ'), ('ride', 'VB'), ('broken', 'JJ'), ('danger', 'NN'), ('scooter', 'NN'), ('think', 'VBP'), ('import', 'NN'), ('bike', 'NN'), ('scooter', 'NN'), ('industri', 'NN'), ('grow', 'VB'), ('good', 'JJ'), ('job', 'NN'), ('opportun', 'JJ'), ('parallel', 'JJ'), ('samponaro', 'NN'), ('said', 'VBD')]\n"
     ]
    }
   ],
   "source": [
    "def main():\n",
    "    file = open('english.txt', 'r')\n",
    "    text_data = file.read()\n",
    "    low = casefolding(text_data)\n",
    "    punc = removePunc(low)\n",
    "    filtered_sentence = stopword(punc)\n",
    "    str1 = ' '.join(filtered_sentence)\n",
    "    stem = stemmingEnglish(str1)\n",
    "    pt = postag(stem)\n",
    "    count = Counter(filtered_sentence)\n",
    "    print(pt)\n",
    "\n",
    "if __name__== \"__main__\":\n",
    "    main()"
   ]
  },
  {
   "cell_type": "code",
   "execution_count": null,
   "metadata": {},
   "outputs": [],
   "source": []
  }
 ],
 "metadata": {
  "kernelspec": {
   "display_name": "Python 3",
   "language": "python",
   "name": "python3"
  },
  "language_info": {
   "codemirror_mode": {
    "name": "ipython",
    "version": 3
   },
   "file_extension": ".py",
   "mimetype": "text/x-python",
   "name": "python",
   "nbconvert_exporter": "python",
   "pygments_lexer": "ipython3",
   "version": "3.6.5"
  }
 },
 "nbformat": 4,
 "nbformat_minor": 2
}
