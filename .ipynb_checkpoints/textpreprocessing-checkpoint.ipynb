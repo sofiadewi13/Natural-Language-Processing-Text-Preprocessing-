{
 "cells": [
  {
   "cell_type": "code",
   "execution_count": 64,
   "metadata": {},
   "outputs": [],
   "source": [
    "import nltk #import library nltk\n",
    "from nltk.tokenize import word_tokenize #import word_tokenize for tokenizing text into words \n",
    "from nltk.tokenize import sent_tokenize #import sent_tokenize for tokenizing paragraph into sentences\n",
    "from nltk.stem.porter import PorterStemmer #import Porter Stemmer Algorithm \n",
    "from nltk.stem import WordNetLemmatizer #import WordNet lemmatizer \n",
    "from nltk.corpus import stopwords #import stopwords\n",
    "from nltk.tokenize import RegexpTokenizer\n",
    "from Sastrawi.Stemmer.StemmerFactory import StemmerFactory #import Indonesian Stemmer\n",
    "from Sastrawi.StopWordRemover.StopWordRemoverFactory import StopWordRemoverFactory\n",
    "from collections import Counter\n",
    "import re #import regular expression"
   ]
  },
  {
   "cell_type": "code",
   "execution_count": 40,
   "metadata": {},
   "outputs": [
    {
     "data": {
      "text/plain": [
       "['Brand Indonesia yang Lolos di bazar Maison&Objet, Paris\\n\\nAlvin Tjitrowirjo mempertunjukkan desain produknya dibawah brand miliknya yang diberi nama alvinT pada event yang akan datang, Maison&Objet, sebuah bazar gaya hidup yang akan diadakan di Paris-Nord Villepinte convention center, Paris, di mulai pada tanggal 7 kemarin hingga 11 September mendatang.',\n",
       " 'Dari benda-benda yang akan dipertunjukkan oleh alvinT adalah kuda kayu besar, kursi Malya, Loop stool, dan bangku.',\n",
       " 'Semua benda ini dibuat dari jenis baru rotan bernama karuun, dikembangkan oleh perusahaan manufaktur asal Jerman.',\n",
       " '\"Karuun sesungguhnya merupakan sebuah teknik mewarnai baru untuk rotan.',\n",
       " 'Biasanya rotan disemprot menggunakan zat pewarna dari luar, namun (karuun) semacam disuntikkan dengan warna, jadi saat dipotong kita bisa melihat di bagian dalamnya juga berwarna,\" ucap Alvin seperti yang dikutip dari Jakarta Post.',\n",
       " 'Alvin menyebutkan bahwa teknik mewarnai baru tersebut telah dipatenkan dan perusahaannya memastikan bahwa rotan tersebut berkelanjutan berasal dari Aceh dan Kalimantan.',\n",
       " '\"Sesungguhnya, nama karuun merujuk pada materialnya,\" ucap Alvin, \"dan saya mendesain (produknya) menggunakan material tersebut.\"',\n",
       " 'Produk yang didesain oleh Alvin memiliki warna pastel, bertujuan untuk tampilan kontemporer.',\n",
       " 'Moment ini merupakan ketiga kalinya Alvin menunjukkan desainnya di Maison&Objet, dimana ia berbagi booth N20 di Hall 5A dengan desainer tekstil berkebangsaan Belanda Nikkie Wester.',\n",
       " 'Pada Januari lalu, Alvin menunjukkan desainnya di Maison&Objet, di booth rotan Yamakawa.',\n",
       " 'Sebelumnya Alvin berkolaborasi dengan brand fashion Indonesia, Sejauh Mata Memandang untuk dipertunjukkan di Maison&Objet 2017.',\n",
       " 'Alvin menyatakan bahwa untuk dapat menunjukkan hasil karyanya di ajang prestis seperti ini bukanlah hal yang mudah, ia harus melewati proses seleksi yang cukup menantang.']"
      ]
     },
     "execution_count": 40,
     "metadata": {},
     "output_type": "execute_result"
    }
   ],
   "source": [
    "file = open ('bahasa.txt','r')\n",
    "n = file.read()\n",
    "\n",
    "def sentence_tokenization(s): \n",
    "    sentences_list = sent_tokenize(s)\n",
    "    \n",
    "   \n",
    "    return sentences_list \n",
    "\n",
    "text_data = n\n",
    "sentence_tokenization(text_data)\n"
   ]
  },
  {
   "cell_type": "code",
   "execution_count": 41,
   "metadata": {},
   "outputs": [
    {
     "name": "stdout",
     "output_type": "stream",
     "text": [
      "brand indonesia yang lolos di bazar maison&objet, paris\n",
      "\n",
      "alvin tjitrowirjo mempertunjukkan desain produknya dibawah brand miliknya yang diberi nama alvint pada event yang akan datang, maison&objet, sebuah bazar gaya hidup yang akan diadakan di paris-nord villepinte convention center, paris, di mulai pada tanggal 7 kemarin hingga 11 september mendatang.\n",
      "dari benda-benda yang akan dipertunjukkan oleh alvint adalah kuda kayu besar, kursi malya, loop stool, dan bangku. semua benda ini dibuat dari jenis baru rotan bernama karuun, dikembangkan oleh perusahaan manufaktur asal jerman.\n",
      "\"karuun sesungguhnya merupakan sebuah teknik mewarnai baru untuk rotan. biasanya rotan disemprot menggunakan zat pewarna dari luar, namun (karuun) semacam disuntikkan dengan warna, jadi saat dipotong kita bisa melihat di bagian dalamnya juga berwarna,\" ucap alvin seperti yang dikutip dari jakarta post.\n",
      "alvin menyebutkan bahwa teknik mewarnai baru tersebut telah dipatenkan dan perusahaannya memastikan bahwa rotan tersebut berkelanjutan berasal dari aceh dan kalimantan.\n",
      "\"sesungguhnya, nama karuun merujuk pada materialnya,\" ucap alvin, \"dan saya mendesain (produknya) menggunakan material tersebut.\"\n",
      "produk yang didesain oleh alvin memiliki warna pastel, bertujuan untuk tampilan kontemporer.\n",
      "moment ini merupakan ketiga kalinya alvin menunjukkan desainnya di maison&objet, dimana ia berbagi booth n20 di hall 5a dengan desainer tekstil berkebangsaan belanda nikkie wester. pada januari lalu, alvin menunjukkan desainnya di maison&objet, di booth rotan yamakawa.\n",
      "sebelumnya alvin berkolaborasi dengan brand fashion indonesia, sejauh mata memandang untuk dipertunjukkan di maison&objet 2017.\n",
      "alvin menyatakan bahwa untuk dapat menunjukkan hasil karyanya di ajang prestis seperti ini bukanlah hal yang mudah, ia harus melewati proses seleksi yang cukup menantang.\n",
      "\n",
      "\n",
      "\n",
      "\n",
      "\n"
     ]
    }
   ],
   "source": [
    "def casefolding(s):\n",
    "    new_str = s.lower()\n",
    "    \n",
    "    return new_str\n",
    "\n",
    "low = casefolding(text_data)\n",
    "print(low)"
   ]
  },
  {
   "cell_type": "code",
   "execution_count": 42,
   "metadata": {},
   "outputs": [
    {
     "name": "stdout",
     "output_type": "stream",
     "text": [
      "brand indonesia yang lolos di bazar maison objet  paris  alvin tjitrowirjo mempertunjukkan desain produknya dibawah brand miliknya yang diberi nama alvint pada event yang akan datang  maison objet  sebuah bazar gaya hidup yang akan diadakan di paris nord villepinte convention center  paris  di mulai pada tanggal 7 kemarin hingga 11 september mendatang  dari benda benda yang akan dipertunjukkan oleh alvint adalah kuda kayu besar  kursi malya  loop stool  dan bangku  semua benda ini dibuat dari jenis baru rotan bernama karuun  dikembangkan oleh perusahaan manufaktur asal jerman   karuun sesungguhnya merupakan sebuah teknik mewarnai baru untuk rotan  biasanya rotan disemprot menggunakan zat pewarna dari luar  namun  karuun  semacam disuntikkan dengan warna  jadi saat dipotong kita bisa melihat di bagian dalamnya juga berwarna   ucap alvin seperti yang dikutip dari jakarta post  alvin menyebutkan bahwa teknik mewarnai baru tersebut telah dipatenkan dan perusahaannya memastikan bahwa rotan tersebut berkelanjutan berasal dari aceh dan kalimantan   sesungguhnya  nama karuun merujuk pada materialnya   ucap alvin   dan saya mendesain  produknya  menggunakan material tersebut   produk yang didesain oleh alvin memiliki warna pastel  bertujuan untuk tampilan kontemporer  moment ini merupakan ketiga kalinya alvin menunjukkan desainnya di maison objet  dimana ia berbagi booth n20 di hall 5a dengan desainer tekstil berkebangsaan belanda nikkie wester  pada januari lalu  alvin menunjukkan desainnya di maison objet  di booth rotan yamakawa  sebelumnya alvin berkolaborasi dengan brand fashion indonesia  sejauh mata memandang untuk dipertunjukkan di maison objet 2017  alvin menyatakan bahwa untuk dapat menunjukkan hasil karyanya di ajang prestis seperti ini bukanlah hal yang mudah  ia harus melewati proses seleksi yang cukup menantang      \n"
     ]
    }
   ],
   "source": [
    "def removePunc(str):\n",
    "    new_string =  re.sub(r\"[\\W]\", \" \", str)\n",
    "    return new_string\n",
    "punc = removePunc(low)\n",
    "print(punc)"
   ]
  },
  {
   "cell_type": "code",
   "execution_count": 51,
   "metadata": {},
   "outputs": [
    {
     "name": "stdout",
     "output_type": "stream",
     "text": [
      "brand indonesia yang lolos di bazar maison objet paris alvin tjitrowirjo tunjuk desain produk bawah brand milik yang beri nama alvint pada event yang akan datang maison objet buah bazar gaya hidup yang akan ada di paris nord villepinte convention center paris di mulai pada tanggal 7 kemarin hingga 11 september datang dari benda benda yang akan tunjuk oleh alvint adalah kuda kayu besar kursi malya loop stool dan bangku semua benda ini buat dari jenis baru rotan nama karuun kembang oleh usaha manufaktur asal jerman karuun sungguh rupa buah teknik warna baru untuk rotan biasa rotan semprot guna zat warna dari luar namun karuun macam suntik dengan warna jadi saat potong kita bisa lihat di bagi dalam juga warna ucap alvin seperti yang kutip dari jakarta post alvin sebut bahwa teknik warna baru sebut telah paten dan usaha pasti bahwa rotan sebut lanjut asal dari aceh dan kalimantan sungguh nama karuun rujuk pada material ucap alvin dan saya desain produk guna material sebut produk yang desain oleh alvin milik warna pastel tuju untuk tampil kontemporer moment ini rupa tiga kali alvin tunjuk desain di maison objet mana ia bagi booth n20 di hall 5a dengan desainer tekstil bangsa belanda nikkie wester pada januari lalu alvin tunjuk desain di maison objet di booth rotan yamakawa belum alvin kolaborasi dengan brand fashion indonesia jauh mata pandang untuk tunjuk di maison objet 2017 alvin nyata bahwa untuk dapat tunjuk hasil karya di ajang prestis seperti ini bukan hal yang mudah ia harus lewat proses seleksi yang cukup tantang\n"
     ]
    }
   ],
   "source": [
    "def stemmingIndo(str):\n",
    "    factory = StemmerFactory()\n",
    "    stemmer = factory.create_stemmer()\n",
    "    return stemmer.stem(str)\n",
    "\n",
    "stem = stemmingIndo(punc)\n",
    "print(stem)"
   ]
  },
  {
   "cell_type": "code",
   "execution_count": 52,
   "metadata": {},
   "outputs": [
    {
     "name": "stdout",
     "output_type": "stream",
     "text": [
      "[nltk_data] Downloading package stopwords to C:\\Users\\Sofia\n",
      "[nltk_data]     Dewi\\AppData\\Roaming\\nltk_data...\n",
      "[nltk_data]   Package stopwords is already up-to-date!\n"
     ]
    },
    {
     "data": {
      "text/plain": [
       "True"
      ]
     },
     "execution_count": 52,
     "metadata": {},
     "output_type": "execute_result"
    }
   ],
   "source": [
    "import nltk \n",
    "nltk.download('stopwords')\n"
   ]
  },
  {
   "cell_type": "code",
   "execution_count": 53,
   "metadata": {},
   "outputs": [
    {
     "name": "stdout",
     "output_type": "stream",
     "text": [
      "['brand', 'indonesia', 'yang', 'lolos', 'di', 'bazar', 'maison', 'objet', 'paris', 'alvin', 'tjitrowirjo', 'tunjuk', 'desain', 'produk', 'bawah', 'brand', 'milik', 'yang', 'beri', 'nama', 'alvint', 'pada', 'event', 'yang', 'akan', 'datang', 'maison', 'objet', 'buah', 'bazar', 'gaya', 'hidup', 'yang', 'akan', 'ada', 'di', 'paris', 'nord', 'villepinte', 'convention', 'center', 'paris', 'di', 'mulai', 'pada', 'tanggal', '7', 'kemarin', 'hingga', '11', 'september', 'datang', 'dari', 'benda', 'benda', 'yang', 'akan', 'tunjuk', 'oleh', 'alvint', 'adalah', 'kuda', 'kayu', 'besar', 'kursi', 'malya', 'loop', 'stool', 'dan', 'bangku', 'semua', 'benda', 'ini', 'buat', 'dari', 'jenis', 'baru', 'rotan', 'nama', 'karuun', 'kembang', 'oleh', 'usaha', 'manufaktur', 'asal', 'jerman', 'karuun', 'sungguh', 'rupa', 'buah', 'teknik', 'warna', 'baru', 'untuk', 'rotan', 'biasa', 'rotan', 'semprot', 'guna', 'zat', 'warna', 'dari', 'luar', 'namun', 'karuun', 'macam', 'suntik', 'dengan', 'warna', 'jadi', 'saat', 'potong', 'kita', 'bisa', 'lihat', 'di', 'bagi', 'dalam', 'juga', 'warna', 'ucap', 'alvin', 'seperti', 'yang', 'kutip', 'dari', 'jakarta', 'post', 'alvin', 'sebut', 'bahwa', 'teknik', 'warna', 'baru', 'sebut', 'telah', 'paten', 'dan', 'usaha', 'pasti', 'bahwa', 'rotan', 'sebut', 'lanjut', 'asal', 'dari', 'aceh', 'dan', 'kalimantan', 'sungguh', 'nama', 'karuun', 'rujuk', 'pada', 'material', 'ucap', 'alvin', 'dan', 'saya', 'desain', 'produk', 'guna', 'material', 'sebut', 'produk', 'yang', 'desain', 'oleh', 'alvin', 'milik', 'warna', 'pastel', 'tuju', 'untuk', 'tampil', 'kontemporer', 'moment', 'ini', 'rupa', 'tiga', 'kali', 'alvin', 'tunjuk', 'desain', 'di', 'maison', 'objet', 'mana', 'ia', 'bagi', 'booth', 'n20', 'di', 'hall', '5a', 'dengan', 'desainer', 'tekstil', 'bangsa', 'belanda', 'nikkie', 'wester', 'pada', 'januari', 'lalu', 'alvin', 'tunjuk', 'desain', 'di', 'maison', 'objet', 'di', 'booth', 'rotan', 'yamakawa', 'belum', 'alvin', 'kolaborasi', 'dengan', 'brand', 'fashion', 'indonesia', 'jauh', 'mata', 'pandang', 'untuk', 'tunjuk', 'di', 'maison', 'objet', '2017', 'alvin', 'nyata', 'bahwa', 'untuk', 'dapat', 'tunjuk', 'hasil', 'karya', 'di', 'ajang', 'prestis', 'seperti', 'ini', 'bukan', 'hal', 'yang', 'mudah', 'ia', 'harus', 'lewat', 'proses', 'seleksi', 'yang', 'cukup', 'tantang']\n",
      "['brand', 'indonesia', 'lolos', 'bazar', 'maison', 'objet', 'paris', 'alvin', 'tjitrowirjo', 'desain', 'produk', 'brand', 'milik', 'nama', 'alvint', 'event', 'maison', 'objet', 'buah', 'bazar', 'gaya', 'hidup', 'paris', 'nord', 'villepinte', 'convention', 'center', 'paris', 'tanggal', '7', 'kemarin', '11', 'september', 'benda', 'benda', 'alvint', 'kuda', 'kayu', 'kursi', 'malya', 'loop', 'stool', 'bangku', 'benda', 'jenis', 'rotan', 'nama', 'karuun', 'kembang', 'usaha', 'manufaktur', 'jerman', 'karuun', 'sungguh', 'rupa', 'buah', 'teknik', 'warna', 'rotan', 'rotan', 'semprot', 'zat', 'warna', 'karuun', 'suntik', 'warna', 'potong', 'lihat', 'warna', 'alvin', 'kutip', 'jakarta', 'post', 'alvin', 'teknik', 'warna', 'paten', 'usaha', 'rotan', 'aceh', 'kalimantan', 'sungguh', 'nama', 'karuun', 'rujuk', 'material', 'alvin', 'desain', 'produk', 'material', 'produk', 'desain', 'alvin', 'milik', 'warna', 'pastel', 'tuju', 'tampil', 'kontemporer', 'moment', 'rupa', 'kali', 'alvin', 'desain', 'maison', 'objet', 'booth', 'n20', 'hall', '5a', 'desainer', 'tekstil', 'bangsa', 'belanda', 'nikkie', 'wester', 'januari', 'alvin', 'desain', 'maison', 'objet', 'booth', 'rotan', 'yamakawa', 'alvin', 'kolaborasi', 'brand', 'fashion', 'indonesia', 'mata', 'pandang', 'maison', 'objet', '2017', 'alvin', 'nyata', 'hasil', 'karya', 'ajang', 'prestis', 'mudah', 'proses', 'seleksi', 'tantang']\n"
     ]
    }
   ],
   "source": [
    "from nltk.corpus import stopwords \n",
    "from nltk.tokenize import word_tokenize \n",
    "\n",
    "example_sent = stem\n",
    "\n",
    "stop_words = set(stopwords.words('indonesian')) \n",
    "\n",
    "word_tokens = word_tokenize(example_sent) \n",
    "\n",
    "filtered_sentence = [w for w in word_tokens if not w in stop_words]  \n",
    "filtered_sentence = [] \n",
    "\n",
    "for w in word_tokens: \n",
    "    if w not in stop_words: \n",
    "        filtered_sentence.append(w) \n",
    "\n",
    "print(word_tokens) \n",
    "print(filtered_sentence)"
   ]
  },
  {
   "cell_type": "code",
   "execution_count": 62,
   "metadata": {},
   "outputs": [
    {
     "name": "stdout",
     "output_type": "stream",
     "text": [
      "brand indonesia lolos bazar maison objet paris alvin tjitrowirjo desain produk brand milik nama alvint event maison objet buah bazar gaya hidup paris nord villepinte convention center paris tanggal 7 kemarin 11 september benda benda alvint kuda kayu kursi malya loop stool bangku benda jenis rotan nama karuun kembang usaha manufaktur jerman karuun sungguh rupa buah teknik warna rotan rotan semprot zat warna karuun suntik warna potong lihat warna alvin kutip jakarta post alvin teknik warna paten usaha rotan aceh kalimantan sungguh nama karuun rujuk material alvin desain produk material produk desain alvin milik warna pastel tuju tampil kontemporer moment rupa kali alvin desain maison objet booth n20 hall 5a desainer tekstil bangsa belanda nikkie wester januari alvin desain maison objet booth rotan yamakawa alvin kolaborasi brand fashion indonesia mata pandang maison objet 2017 alvin nyata hasil karya ajang prestis mudah proses seleksi tantang\n"
     ]
    }
   ],
   "source": [
    "str1 = ' '.join(filtered_sentence)\n",
    "print(str1)"
   ]
  },
  {
   "cell_type": "code",
   "execution_count": 63,
   "metadata": {},
   "outputs": [
    {
     "name": "stdout",
     "output_type": "stream",
     "text": [
      "[('brand', 'NN'), ('indonesia', 'NN'), ('lolos', 'NN'), ('bazar', 'NN'), ('maison', 'NN'), ('objet', 'NN'), ('paris', 'NN'), ('alvin', 'NN'), ('tjitrowirjo', 'NN'), ('desain', 'NN'), ('produk', 'NN'), ('brand', 'NN'), ('milik', 'NN'), ('nama', 'JJ'), ('alvint', 'NN'), ('event', 'NN'), ('maison', 'NN'), ('objet', 'NN'), ('buah', 'NN'), ('bazar', 'NN'), ('gaya', 'NN'), ('hidup', 'NN'), ('paris', 'NN'), ('nord', 'NN'), ('villepinte', 'NN'), ('convention', 'NN'), ('center', 'NN'), ('paris', 'VBP'), ('tanggal', 'JJ'), ('7', 'CD'), ('kemarin', 'NN'), ('11', 'CD'), ('september', 'NN'), ('benda', 'NN'), ('benda', 'NN'), ('alvint', 'NN'), ('kuda', 'NN'), ('kayu', 'NN'), ('kursi', 'NN'), ('malya', 'NN'), ('loop', 'NN'), ('stool', 'NN'), ('bangku', 'NN'), ('benda', 'NN'), ('jenis', 'NN'), ('rotan', 'JJ'), ('nama', 'NN'), ('karuun', 'NN'), ('kembang', 'VBD'), ('usaha', 'JJ'), ('manufaktur', 'NN'), ('jerman', 'NN'), ('karuun', 'VBD'), ('sungguh', 'JJ'), ('rupa', 'NN'), ('buah', 'NN'), ('teknik', 'NN'), ('warna', 'NN'), ('rotan', 'NN'), ('rotan', 'NN'), ('semprot', 'NN'), ('zat', 'NN'), ('warna', 'NN'), ('karuun', 'NN'), ('suntik', 'NN'), ('warna', 'NN'), ('potong', 'IN'), ('lihat', 'WP'), ('warna', 'VBP'), ('alvin', 'JJ'), ('kutip', 'NN'), ('jakarta', 'NN'), ('post', 'NN'), ('alvin', 'NN'), ('teknik', 'NN'), ('warna', 'NN'), ('paten', 'VBP'), ('usaha', 'JJ'), ('rotan', 'NN'), ('aceh', 'NN'), ('kalimantan', 'NN'), ('sungguh', 'NN'), ('nama', 'NN'), ('karuun', 'NN'), ('rujuk', 'VBP'), ('material', 'NN'), ('alvin', 'NN'), ('desain', 'NN'), ('produk', 'JJ'), ('material', 'NN'), ('produk', 'NN'), ('desain', 'NN'), ('alvin', 'JJ'), ('milik', 'NN'), ('warna', 'JJ'), ('pastel', 'NN'), ('tuju', 'NN'), ('tampil', 'NN'), ('kontemporer', 'NN'), ('moment', 'NN'), ('rupa', 'NN'), ('kali', 'NN'), ('alvin', 'NN'), ('desain', 'NN'), ('maison', 'NN'), ('objet', 'IN'), ('booth', 'DT'), ('n20', 'JJ'), ('hall', 'NN'), ('5a', 'CD'), ('desainer', 'NN'), ('tekstil', 'NN'), ('bangsa', 'NN'), ('belanda', 'NN'), ('nikkie', 'NN'), ('wester', 'NN'), ('januari', 'NN'), ('alvin', 'NN'), ('desain', 'NN'), ('maison', 'NN'), ('objet', 'IN'), ('booth', 'DT'), ('rotan', 'JJ'), ('yamakawa', 'NN'), ('alvin', 'NN'), ('kolaborasi', 'NN'), ('brand', 'NN'), ('fashion', 'NN'), ('indonesia', 'NN'), ('mata', 'NN'), ('pandang', 'NN'), ('maison', 'NN'), ('objet', 'NN'), ('2017', 'CD'), ('alvin', 'NN'), ('nyata', 'CC'), ('hasil', 'NN'), ('karya', 'NN'), ('ajang', 'NN'), ('prestis', 'NN'), ('mudah', 'NN'), ('proses', 'VBZ'), ('seleksi', 'JJ'), ('tantang', 'NN')]\n"
     ]
    }
   ],
   "source": [
    "def postag(str):\n",
    "    tok_sentence = nltk.word_tokenize(str)\n",
    "    tagged_sentence = nltk.pos_tag(tok_sentence)\n",
    "    return tagged_sentence\n",
    "\n",
    "pt = postag(str1)\n",
    "print(pt)"
   ]
  },
  {
   "cell_type": "code",
   "execution_count": 67,
   "metadata": {},
   "outputs": [
    {
     "name": "stdout",
     "output_type": "stream",
     "text": [
      "Counter({'alvin': 9, 'warna': 6, 'maison': 5, 'objet': 5, 'desain': 5, 'rotan': 5, 'karuun': 4, 'brand': 3, 'paris': 3, 'produk': 3, 'nama': 3, 'benda': 3, 'indonesia': 2, 'bazar': 2, 'milik': 2, 'alvint': 2, 'buah': 2, 'usaha': 2, 'sungguh': 2, 'rupa': 2, 'teknik': 2, 'material': 2, 'booth': 2, 'lolos': 1, 'tjitrowirjo': 1, 'event': 1, 'gaya': 1, 'hidup': 1, 'nord': 1, 'villepinte': 1, 'convention': 1, 'center': 1, 'tanggal': 1, '7': 1, 'kemarin': 1, '11': 1, 'september': 1, 'kuda': 1, 'kayu': 1, 'kursi': 1, 'malya': 1, 'loop': 1, 'stool': 1, 'bangku': 1, 'jenis': 1, 'kembang': 1, 'manufaktur': 1, 'jerman': 1, 'semprot': 1, 'zat': 1, 'suntik': 1, 'potong': 1, 'lihat': 1, 'kutip': 1, 'jakarta': 1, 'post': 1, 'paten': 1, 'aceh': 1, 'kalimantan': 1, 'rujuk': 1, 'pastel': 1, 'tuju': 1, 'tampil': 1, 'kontemporer': 1, 'moment': 1, 'kali': 1, 'n20': 1, 'hall': 1, '5a': 1, 'desainer': 1, 'tekstil': 1, 'bangsa': 1, 'belanda': 1, 'nikkie': 1, 'wester': 1, 'januari': 1, 'yamakawa': 1, 'kolaborasi': 1, 'fashion': 1, 'mata': 1, 'pandang': 1, '2017': 1, 'nyata': 1, 'hasil': 1, 'karya': 1, 'ajang': 1, 'prestis': 1, 'mudah': 1, 'proses': 1, 'seleksi': 1, 'tantang': 1})\n"
     ]
    }
   ],
   "source": [
    "hitung = Counter(filtered_sentence)\n",
    "print(hitung)"
   ]
  },
  {
   "cell_type": "code",
   "execution_count": null,
   "metadata": {},
   "outputs": [],
   "source": []
  }
 ],
 "metadata": {
  "kernelspec": {
   "display_name": "Python 3",
   "language": "python",
   "name": "python3"
  },
  "language_info": {
   "codemirror_mode": {
    "name": "ipython",
    "version": 3
   },
   "file_extension": ".py",
   "mimetype": "text/x-python",
   "name": "python",
   "nbconvert_exporter": "python",
   "pygments_lexer": "ipython3",
   "version": "3.6.5"
  }
 },
 "nbformat": 4,
 "nbformat_minor": 2
}
